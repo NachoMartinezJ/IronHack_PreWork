{
 "cells": [
  {
   "cell_type": "markdown",
   "metadata": {},
   "source": [
    "# Duel of sorcerers\n",
    "You are witnessing an epic battle between two powerful sorcerers: Gandalf and Saruman. Each sorcerer has 10 spells of variable power in their mind and they are going to throw them one after the other. The winner of the duel will be the one who wins more of those clashes between spells. Spells are represented as a list of 10 integers whose value equals the power of the spell.\n",
    "```\n",
    "gandalf = [10, 11, 13, 30, 22, 11, 10, 33, 22, 22]\n",
    "saruman = [23, 66, 12, 43, 12, 10, 44, 23, 12, 17]\n",
    "```\n",
    "For example:\n",
    "1. The first clash is won by Saruman: 10 against 23, wins 23\n",
    "2. The second clash wins Saruman: 11 against 66, wins 66\n",
    "3. etc.\n",
    "\n",
    "\n",
    "You will create two variables, one for each sorcerer, where the sum of clashes won will be stored. Depending on which variable is greater at the end of the duel, you will show one of the following three results on the screen:\n",
    "* Gandalf wins\n",
    "* Saruman wins\n",
    "* Tie\n",
    "\n",
    "<img src=\"images/content_lightning_bolt_big.jpg\" width=\"400\">"
   ]
  },
  {
   "cell_type": "markdown",
   "metadata": {},
   "source": [
    "## Solution"
   ]
  },
  {
   "cell_type": "code",
   "execution_count": 35,
   "metadata": {},
   "outputs": [],
   "source": [
    "# Assign spell power lists to variables\n",
    "\n",
    "gandalf = [10, 11, 13, 30, 22, 11, 10, 33, 22, 22]\n",
    "saruman = [23, 66, 12, 43, 12, 10, 44, 23, 12, 17]\n"
   ]
  },
  {
   "cell_type": "code",
   "execution_count": 36,
   "metadata": {},
   "outputs": [],
   "source": [
    "# Assign 0 to each variable that stores the victories\n",
    "gandalf_wins = 0;\n",
    "saruman_wins = 0;\n",
    "list_of_ordinal_numb = {0: 'first', 1: 'second', 2: 'third', 3: 'fourth', 4: 'fifth',\n",
    "                        5: 'sixth', 6: 'seventh', 7: 'eighth', 8: 'ninth', 9: 'tenth'};\n"
   ]
  },
  {
   "cell_type": "code",
   "execution_count": 37,
   "metadata": {},
   "outputs": [
    {
     "name": "stdout",
     "output_type": "stream",
     "text": [
      "The first clash is won by Saruman: 23 against 10.\n",
      "The second clash is won by Saruman: 66 against 11.\n",
      "The third clash is won by Gandalf: 13 against 12.\n",
      "The fourth clash is won by Saruman: 43 against 30.\n",
      "The fifth clash is won by Gandalf: 22 against 12.\n",
      "The sixth clash is won by Gandalf: 11 against 10.\n",
      "The seventh clash is won by Saruman: 44 against 10.\n",
      "The eighth clash is won by Gandalf: 33 against 23.\n",
      "The ninth clash is won by Gandalf: 22 against 12.\n",
      "The tenth clash is won by Gandalf: 22 against 17.\n",
      "Gandalf has 6 wins and Saruman has 4 wins in their clash of spells. Gandalf wins this time!\n"
     ]
    }
   ],
   "source": [
    "# Execution of spell clashes\n",
    "# We check who has won, do not forget the possibility of a draw.\n",
    "# Print the result based on the winner.\n",
    "for element in range(len(gandalf)):\n",
    "    if (gandalf[element] > saruman[element]):\n",
    "        print('The %s clash is won by Gandalf: %d against %d.' %(list_of_ordinal_numb[element], gandalf[element], saruman[element]));\n",
    "        gandalf_wins += 1;\n",
    "    elif (gandalf[element] < saruman[element]):\n",
    "        print('The %s clash is won by Saruman: %d against %d.' %(list_of_ordinal_numb[element], saruman[element], gandalf[element]));\n",
    "        saruman_wins += 1;\n",
    "    else:\n",
    "        print('There has been a tie in the clash of spells.')\n",
    "        \n",
    "print('Gandalf has %d wins and Saruman has %d wins in their clash of spells. Gandalf wins this time!' %(gandalf_wins, saruman_wins));\n"
   ]
  },
  {
   "cell_type": "markdown",
   "metadata": {},
   "source": [
    "## Goals\n",
    "\n",
    "1. Treatment of lists\n",
    "2. Use of **for loop**\n",
    "3. Use of conditional **if-elif-else**\n",
    "4. Use of the functions **range(), len()**\n",
    "5. Print"
   ]
  },
  {
   "cell_type": "markdown",
   "metadata": {},
   "source": [
    "## Bonus\n",
    "\n",
    "1. Spells now have a name and there is a dictionary that relates that name to a power.\n",
    "2. A sorcerer wins if he succeeds in winning 3 spell clashes in a row.\n",
    "3. Average of each of the spell lists.\n",
    "4. Standard deviation of each of the spell lists.\n",
    "\n",
    "```\n",
    "POWER = {\n",
    "    'Fireball': 50, \n",
    "    'Lightning bolt': 40, \n",
    "    'Magic arrow': 10, \n",
    "    'Black Tentacles': 25, \n",
    "    'Contagion': 45\n",
    "}\n",
    "\n",
    "gandalf = ['Fireball', 'Lightning bolt', 'Lightning bolt', 'Magic arrow', 'Fireball', \n",
    "           'Magic arrow', 'Lightning bolt', 'Fireball', 'Fireball', 'Fireball']\n",
    "saruman = ['Contagion', 'Contagion', 'Black Tentacles', 'Fireball', 'Black Tentacles', \n",
    "           'Lightning bolt', 'Magic arrow', 'Contagion', 'Magic arrow', 'Magic arrow']\n",
    "```\n",
    "\n",
    "Good luck!"
   ]
  },
  {
   "cell_type": "code",
   "execution_count": 42,
   "metadata": {},
   "outputs": [],
   "source": [
    "# 1. Spells now have a name and there is a dictionary that relates that name to a power.\n",
    "# Assign spell power lists to variables\n",
    "\n",
    "POWER = {\n",
    "    'Fireball': 50, \n",
    "    'Lightning bolt': 40, \n",
    "    'Magic arrow': 10, \n",
    "    'Black Tentacles': 25, \n",
    "    'Contagion': 45\n",
    "}\n",
    "\n",
    "gandalf = ['Fireball', 'Lightning bolt', 'Lightning bolt', 'Magic arrow', 'Fireball', \n",
    "           'Magic arrow', 'Lightning bolt', 'Fireball', 'Magic arrow', 'Fireball']\n",
    "saruman = ['Contagion', 'Contagion', 'Black Tentacles', 'Fireball', 'Black Tentacles', \n",
    "           'Lightning bolt', 'Magic arrow', 'Contagion', 'Magic arrow', 'Magic arrow']\n"
   ]
  },
  {
   "cell_type": "code",
   "execution_count": 44,
   "metadata": {},
   "outputs": [
    {
     "name": "stdout",
     "output_type": "stream",
     "text": [
      "Gandalf wins this time. It is the 1 victory in a row!!\n",
      "Saruman's wins are reset to 0, better luck next time!\n",
      "\n",
      "Saruman wins this time. It is the 1 victory in a row!!\n",
      "Gandalf's wins are reset to 0, better luck next time!\n",
      "\n",
      "Gandalf wins this time. It is the 1 victory in a row!!\n",
      "Saruman's wins are reset to 0, better luck next time!\n",
      "\n",
      "Saruman wins this time. It is the 1 victory in a row!!\n",
      "Gandalf's wins are reset to 0, better luck next time!\n",
      "\n",
      "Gandalf wins this time. It is the 1 victory in a row!!\n",
      "Saruman's wins are reset to 0, better luck next time!\n",
      "\n",
      "Saruman wins this time. It is the 1 victory in a row!!\n",
      "Gandalf's wins are reset to 0, better luck next time!\n",
      "\n",
      "Gandalf wins this time. It is the 1 victory in a row!!\n",
      "Saruman's wins are reset to 0, better luck next time!\n",
      "\n",
      "Gandalf wins this time. It is the 2 victory in a row!!\n",
      "Saruman's wins are reset to 0, better luck next time!\n",
      "\n",
      "There has been a tie in the clash of spells\n",
      "\n",
      "With this victory Gandalf has won 3 clashes in a row, he wins the sorcerer duel!\n",
      "\n"
     ]
    }
   ],
   "source": [
    "# 2. A sorcerer wins if he succeeds in winning 3 spell clashes in a row.\n",
    "\n",
    "# Execution of spell clashes\n",
    "\n",
    "# check for 3 wins in a row\n",
    "\n",
    "# check the winner\n",
    "\n",
    "saruman_wins = 0\n",
    "gandalf_wins = 0\n",
    "\n",
    "for spell in range(len(gandalf)):\n",
    "    \n",
    "    if (POWER[gandalf[spell]] > POWER[saruman[spell]]):\n",
    "            gandalf_wins += 1\n",
    "            saruman_wins = 0\n",
    "            if (gandalf_wins == 3):\n",
    "                print('With this victory Gandalf has won 3 clashes in a row, he wins the sorcerer duel!\\n')\n",
    "                break\n",
    "            else:\n",
    "                print(\"Gandalf wins this time. It is the %d victory in a row!!\\nSaruman's wins are reset to 0, better luck next time!\\n\" %gandalf_wins)\n",
    "        \n",
    "    elif (POWER[gandalf[spell]] < POWER[saruman[spell]]):\n",
    "            saruman_wins += 1\n",
    "            gandalf_wins = 0\n",
    "            if (saruman_wins == 3):\n",
    "                print('With this victory Saruman has won 3 clashes in a row, he wins the sorcerer duel!\\n')\n",
    "            else:\n",
    "                print(\"Saruman wins this time. It is the %d victory in a row!!\\nGandalf's wins are reset to 0, better luck next time!\\n\" %saruman_wins)\n",
    "\n",
    "    else:\n",
    "        print('There has been a tie in the clash of spells\\n')\n",
    "\n",
    "\n"
   ]
  },
  {
   "cell_type": "code",
   "execution_count": 45,
   "metadata": {},
   "outputs": [
    {
     "name": "stdout",
     "output_type": "stream",
     "text": [
      "The average spell power of Gandalf is: 35.0\n",
      "The average spell power of Saruman is: 30.5\n"
     ]
    }
   ],
   "source": [
    "# 3. Average of each of the spell lists.\n",
    "gandalf_spell_power = 0\n",
    "saruman_spell_power = 0\n",
    "avg_gandalf_spell_power = 0\n",
    "avg_saruman_spell_power = 0\n",
    "\n",
    "for spell in range(len(gandalf)):\n",
    "    gandalf_spell_power += POWER[gandalf[spell]]\n",
    "    saruman_spell_power += POWER[saruman[spell]]\n",
    "    \n",
    "avg_gandalf_spell_power = gandalf_spell_power / len(gandalf)\n",
    "avg_saruman_spell_power = saruman_spell_power / len(saruman)\n",
    "\n",
    "print('The average spell power of Gandalf is:', avg_gandalf_spell_power)\n",
    "print('The average spell power of Saruman is:', avg_saruman_spell_power)\n"
   ]
  },
  {
   "cell_type": "code",
   "execution_count": 46,
   "metadata": {},
   "outputs": [
    {
     "name": "stdout",
     "output_type": "stream",
     "text": [
      "The standard deviation for Gandalf's spell list is: 16.88\n",
      "The standard deviation for Saruman's spell list is 15.56\n"
     ]
    }
   ],
   "source": [
    "# 4. Standard deviation of each of the spell lists.\n",
    "gandalf_spell_variance = 0\n",
    "saruman_spell_variance = 0\n",
    "gandalf_spells_std = 0\n",
    "saruman_spells_std = 0\n",
    "\n",
    "for spell in range(len(gandalf)):\n",
    "    gandalf_spell_variance += ((POWER[gandalf[spell]] - avg_gandalf_spell_power) ** 2) / len(gandalf)\n",
    "    saruman_spell_variance += ((POWER[saruman[spell]] - avg_saruman_spell_power) ** 2) / len(saruman)\n",
    "    \n",
    "gandalf_spells_std = gandalf_spell_variance ** (1/2)\n",
    "saruman_spells_std = saruman_spell_variance ** (1/2)\n",
    "\n",
    "print(\"The standard deviation for Gandalf's spell list is: %.2f\" %gandalf_spells_std)\n",
    "print(\"The standard deviation for Saruman's spell list is %.2f\" %saruman_spells_std)\n",
    "    \n",
    "\n"
   ]
  }
 ],
 "metadata": {
  "kernelspec": {
   "display_name": "Python 3",
   "language": "python",
   "name": "python3"
  },
  "language_info": {
   "codemirror_mode": {
    "name": "ipython",
    "version": 3
   },
   "file_extension": ".py",
   "mimetype": "text/x-python",
   "name": "python",
   "nbconvert_exporter": "python",
   "pygments_lexer": "ipython3",
   "version": "3.7.1"
  }
 },
 "nbformat": 4,
 "nbformat_minor": 2
}
