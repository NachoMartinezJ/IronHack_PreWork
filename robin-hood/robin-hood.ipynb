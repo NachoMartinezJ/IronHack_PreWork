{
 "cells": [
  {
   "cell_type": "markdown",
   "metadata": {},
   "source": [
    "# Robin Hood:\n",
    "We are in a competition to win the archery contest in Sherwood. With our bow and arrows we shoot on a target and try to hit as close as possible to the center.\n",
    "\n",
    "The center of the target is represented by the values (0, 0) on the coordinate axes.\n",
    "\n",
    "![](images/arrows.jpg)\n",
    "\n",
    "## Goals:\n",
    "* data structures: lists, sets, tuples\n",
    "* logical operators: if-elif-else\n",
    "* loop: while/for\n",
    "* minimum (optional sorting)\n",
    "\n",
    "## Description:\n",
    "In the 2-dimensional space, a point can be defined by a pair of values that correspond to the horizontal coordinate (x) and the vertical coordinate (y). The space can be divided into 4 zones (quadrants): Q1, Q2, Q3, Q4. Whose single point of union is the point (0, 0).\n",
    "\n",
    "If a point is in Q1 both its x coordinate and the y are positive. I leave a link to wikipedia to familiarize yourself with these quadrants.\n",
    "\n",
    "https://en.wikipedia.org/wiki/Cartesian_coordinate_system\n",
    "\n",
    "https://en.wikipedia.org/wiki/Euclidean_distance\n",
    "\n",
    "## Shots\n",
    "```\n",
    "points = [(4, 5), (-0, 2), (4, 7), (1, -3), (3, -2), (4, 5),\n",
    "          (3, 2), (5, 7), (-5, 7), (2, 2), (-4, 5), (0, -2),\n",
    "          (-4, 7), (-1, 3), (-3, 2), (-4, -5), (-3, 2),\n",
    "          (5, 7), (5, 7), (2, 2), (9, 9), (-8, -9)]\n",
    "```\n",
    "\n",
    "## Tasks\n",
    "1. Robin Hood is famous for hitting an arrow with another arrow. Did you get it?\n",
    "2. Calculate how many arrows have fallen in each quadrant.\n",
    "3. Find the point closest to the center. Calculate its distance to the center. \n",
    "4. If the target has a radius of 9, calculate the number of arrows that must be picked up in the forest."
   ]
  },
  {
   "cell_type": "code",
   "execution_count": 63,
   "metadata": {},
   "outputs": [],
   "source": [
    "# Variables\n",
    "\n",
    "points = [(4, 5), (-0, 2), (4, 7), (1, -3), (3, -2), (4, 5),\n",
    "          (3, 2), (5, 7), (-5, 7), (2, 2), (-4, 5), (0, -2),\n",
    "          (-4, 7), (-1, 3), (-3, 2), (-4, -5), (-3, 2),\n",
    "          (5, 7), (5, 7), (2, 2), (9, 9), (-8, -9)]\n",
    "seen = set();\n",
    "arrow_convergence_points = [];\n",
    "\n",
    "q1 = 0;\n",
    "q2 = 0;\n",
    "q3 = 0;\n",
    "q4 = 0;\n",
    "\n"
   ]
  },
  {
   "cell_type": "code",
   "execution_count": 64,
   "metadata": {},
   "outputs": [
    {
     "name": "stdout",
     "output_type": "stream",
     "text": [
      "Robin Hood has hit 5 arrows with another arrow. He did it at the following points: [(4, 5), (-3, 2), (5, 7), (5, 7), (2, 2)]\n"
     ]
    }
   ],
   "source": [
    " # 1. Robin Hood is famous for hitting an arrow with another arrow. Did you get it?\n",
    "for coordinates in points:\n",
    "    if (coordinates in seen):\n",
    "        arrow_convergence_points.append(coordinates);\n",
    "    else:\n",
    "        seen.add(coordinates);\n",
    "        \n",
    "print('Robin Hood has hit %d arrows with another arrow. He did it at the following points: %s' %(len(arrow_convergence_points), arrow_convergence_points));\n",
    "\n"
   ]
  },
  {
   "cell_type": "code",
   "execution_count": 65,
   "metadata": {},
   "outputs": [
    {
     "name": "stdout",
     "output_type": "stream",
     "text": [
      "The point (0, 2) lies at positive y axis.\n",
      "The point (0, -2) lies at negative y axis.\n",
      "Q1: 10, Q2: 6, Q3: 2, Q4: 2\n"
     ]
    }
   ],
   "source": [
    "# 2. Calculate how many arrows have fallen in each quadrant.\n",
    "for (x, y) in points:\n",
    "    if (x > 0 and y > 0):\n",
    "        q1 += 1;\n",
    "    elif (x < 0 and y > 0):\n",
    "        q2 += 1;\n",
    "    elif (x < 0 and y < 0):\n",
    "        q3 += 1;\n",
    "     \n",
    "    elif (x > 0 and y < 0):\n",
    "        q4 += 1\n",
    "    elif (x == 0 and y > 0):\n",
    "        print(\"The point (%d, %d) lies at positive y axis.\" %(x, y));\n",
    "    elif (x == 0 and y < 0):\n",
    "        print(\"The point (%d, %d) lies at negative y axis.\" %(x, y));\n",
    "    elif (x > 0 and y == 0):\n",
    "        print(\"The point (%d, %d) lies at positive x axis.\" %(x, y));\n",
    "    elif (x < 0 and y == 0):\n",
    "        print(\"The point (%d, %d) lies at negative x axis.\" %(x, y));\n",
    "    else:\n",
    "        print(\"This point lies at origin.\");\n",
    "        \n",
    "print(\"Q1: %d, Q2: %d, Q3: %d, Q4: %d\" %(q1, q2, q3, q4));\n",
    "\n"
   ]
  },
  {
   "cell_type": "code",
   "execution_count": 66,
   "metadata": {},
   "outputs": [
    {
     "name": "stdout",
     "output_type": "stream",
     "text": [
      "In this case we have two points at the same distance from the center, which are: [(0, 2), (0, -2)]\n",
      "The distance of these points from the center is of 2.0.\n"
     ]
    }
   ],
   "source": [
    "# 3. Find the point closest to the center. Calculate its distance to the center\n",
    "# Defining a function that calculates the distance to the center can help.\n",
    "def distance_to_center(point):\n",
    "    x, y = point\n",
    "    return (x ** 2 + y ** 2) ** (1/2)\n",
    "\n",
    "distances_sorted = sorted(points, key = distance_to_center)\n",
    "closest_points = [distances_sorted[0], distances_sorted[1]]\n",
    "closest_distance_center = distance_to_center(closest_points[0])\n",
    "\n",
    "\n",
    "print('In this case we have two points at the same distance from the center, which are: %s' %closest_points)\n",
    "print('The distance of these points from the center is of %.1f.' %closest_distance_center)\n",
    "\n",
    "\n"
   ]
  },
  {
   "cell_type": "code",
   "execution_count": 67,
   "metadata": {},
   "outputs": [
    {
     "name": "stdout",
     "output_type": "stream",
     "text": [
      "There are 2 points outside the area of the target, which are: [(9, 9), (-8, -9)]\n",
      "We will have to fetch 2 arrows from the forest\n"
     ]
    }
   ],
   "source": [
    "# 4. If the target has a radius of 9, calculate the number of arrows that \n",
    "# must be picked up in the forest.\n",
    "points_outside_target = []\n",
    "arrows_missed = 0\n",
    "\n",
    "for coordinates in points:\n",
    "    if (distance_to_center(coordinates) > 9):\n",
    "        points_outside_target.append(coordinates)\n",
    "arrows_missed = len(points_outside_target)\n",
    "\n",
    "print(\"There are %d points outside the area of the target, which are: %s\" %(arrows_missed, points_outside_target))\n",
    "print(\"We will have to fetch %d arrows from the forest\" %arrows_missed)\n",
    "\n",
    "    \n",
    "\n"
   ]
  }
 ],
 "metadata": {
  "kernelspec": {
   "display_name": "Python 3",
   "language": "python",
   "name": "python3"
  },
  "language_info": {
   "codemirror_mode": {
    "name": "ipython",
    "version": 3
   },
   "file_extension": ".py",
   "mimetype": "text/x-python",
   "name": "python",
   "nbconvert_exporter": "python",
   "pygments_lexer": "ipython3",
   "version": "3.7.1"
  }
 },
 "nbformat": 4,
 "nbformat_minor": 2
}
