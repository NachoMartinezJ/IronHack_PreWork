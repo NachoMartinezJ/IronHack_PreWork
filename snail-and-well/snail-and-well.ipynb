{
 "cells": [
  {
   "cell_type": "markdown",
   "metadata": {},
   "source": [
    "# Snail and well\n",
    "\n",
    "A snail falls at the bottom of a 125 cm well. Each day the snail rises 30 cm. But at night, while sleeping, slides 20 cm because the walls are wet. How many days does it take to escape from the well?\n",
    "\n",
    "TIP: http://puzzles.nigelcoldwell.co.uk/sixtytwo.htm"
   ]
  },
  {
   "cell_type": "markdown",
   "metadata": {},
   "source": [
    "## Solución"
   ]
  },
  {
   "cell_type": "code",
   "execution_count": 21,
   "metadata": {},
   "outputs": [
    {
     "name": "stdout",
     "output_type": "stream",
     "text": [
      "Days = 11\n"
     ]
    }
   ],
   "source": [
    "# Assign problem data to variables with representative names\n",
    "# well height, daily advance, night retreat, accumulated distance\n",
    "well_height = 125;\n",
    "daily_advance = 30;\n",
    "night_retreat = 20;\n",
    "accumulated_distance = 0;\n",
    "\n",
    "# Assign 0 to the variable that represents the solution\n",
    "days = 0;\n",
    "\n",
    "# Write the code that solves the problem\n",
    "while (accumulated_distance < well_height):\n",
    "    accumulated_distance += daily_advance;    \n",
    "    if (accumulated_distance <= well_height):\n",
    "        accumulated_distance -= night_retreat;\n",
    "    days += 1;\n",
    "    \n",
    "\n",
    "# Print the result with print('Days =', days)\n",
    "print('Days =', days);\n"
   ]
  },
  {
   "cell_type": "markdown",
   "metadata": {},
   "source": [
    "## Goals\n",
    "\n",
    "1. Treatment of variables\n",
    "2. Use of loop **while**\n",
    "3. Use of conditional **if-else**\n",
    "4. Print in console"
   ]
  },
  {
   "cell_type": "markdown",
   "metadata": {},
   "source": [
    "## Bonus\n",
    "The distance traveled by the snail is now defined by a list.\n",
    "```\n",
    "advance_cm = [30, 21, 33, 77, 44, 45, 23, 45, 12, 34, 55]\n",
    "```\n",
    "How long does it take to raise the well?\n",
    "\n",
    "What is its maximum displacement in one day? And its minimum?\n",
    "\n",
    "What is its average speed during the day?\n",
    "\n",
    "What is the standard deviation of its displacement during the day?"
   ]
  },
  {
   "cell_type": "code",
   "execution_count": 42,
   "metadata": {},
   "outputs": [],
   "source": [
    "# Assign problem data to variables with representative names\n",
    "# well height, daily advance, night retreat, accumulated distance\n",
    "well_height = 125\n",
    "daily_advance = 30\n",
    "night_retreat = 20\n",
    "accumulated_distance = 0\n",
    "index = 0\n",
    "advance_cm = [30, 21, 33, 77, 44, 45, 23, 45, 12, 34, 55]"
   ]
  },
  {
   "cell_type": "code",
   "execution_count": 43,
   "metadata": {},
   "outputs": [],
   "source": [
    "# Assign 0 to the variable that represents the solution\n",
    "days = 0"
   ]
  },
  {
   "cell_type": "code",
   "execution_count": 44,
   "metadata": {},
   "outputs": [
    {
     "name": "stdout",
     "output_type": "stream",
     "text": [
      "Days =  6\n"
     ]
    }
   ],
   "source": [
    "# Write the code that solves the problem\n",
    "while (accumulated_distance < well_height):\n",
    "    accumulated_distance += advance_cm[index]\n",
    "    if (accumulated_distance <= well_height):\n",
    "        accumulated_distance -= night_retreat\n",
    "    days += 1\n",
    "    index += 1 \n",
    "    \n",
    "# Print the result with print('Days =', days)\n",
    "print('Days = ', days)"
   ]
  },
  {
   "cell_type": "code",
   "execution_count": 45,
   "metadata": {},
   "outputs": [
    {
     "name": "stdout",
     "output_type": "stream",
     "text": [
      "Its maximum displacement in a day is 57\n",
      "Its minimum displacement in a day is 1\n"
     ]
    }
   ],
   "source": [
    "# What is its maximum displacement in a day? And its minimum?\n",
    "# I calculate the displacement only using the travel distance of the days used to get out of the well (since the other data points weren't used). \n",
    "# Since it asks for the displacement in a day, I substract the night retreat.\n",
    "maximum_displacement = (max(advance_cm[ : days]) - night_retreat)\n",
    "minimum_displacement = (min(advance_cm[ : days]) - night_retreat)\n",
    "print('Its maximum displacement in a day is', maximum_displacement)\n",
    "print('Its minimum displacement in a day is', minimum_displacement)"
   ]
  },
  {
   "cell_type": "code",
   "execution_count": 46,
   "metadata": {},
   "outputs": [
    {
     "name": "stdout",
     "output_type": "stream",
     "text": [
      "Its average progress is 25.00, if we count the night retreat.\n",
      "Whithout counting the night retreat, the average progress is 41.67\n"
     ]
    }
   ],
   "source": [
    "# What is its average progress?\n",
    "average_progress = accumulated_distance / days\n",
    "average_progress2 = sum(advance_cm[: days]) / days\n",
    "print('Its average progress is %.2f, if we count the night retreat.' %average_progress)\n",
    "print('Whithout counting the night retreat, the average progress is %.2f' %average_progress2)"
   ]
  },
  {
   "cell_type": "code",
   "execution_count": 48,
   "metadata": {},
   "outputs": [
    {
     "name": "stdout",
     "output_type": "stream",
     "text": [
      "The standard deviation of its displacement during the day is: 17.81\n"
     ]
    }
   ],
   "source": [
    "# What is the standard deviation of your displacement during the day?\n",
    "# Since it states that we'll use only the displacement during the day, we won't take into account the night retreat.\n",
    "variance = 0\n",
    "std = 0\n",
    "for element in range(days):\n",
    "    variance += ((advance_cm[element] - average_progress2) ** 2) / days\n",
    "\n",
    "std = std_variance ** (1/2)\n",
    "        \n",
    "print('The standard deviation of its displacement during the day is: %.2f' %std)"
   ]
  }
 ],
 "metadata": {
  "kernelspec": {
   "display_name": "Python 3",
   "language": "python",
   "name": "python3"
  },
  "language_info": {
   "codemirror_mode": {
    "name": "ipython",
    "version": 3
   },
   "file_extension": ".py",
   "mimetype": "text/x-python",
   "name": "python",
   "nbconvert_exporter": "python",
   "pygments_lexer": "ipython3",
   "version": "3.7.1"
  }
 },
 "nbformat": 4,
 "nbformat_minor": 2
}
