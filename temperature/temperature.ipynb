{
 "cells": [
  {
   "cell_type": "markdown",
   "metadata": {},
   "source": [
    "# Processor temperature\n",
    "\n",
    "We have a temperature sensor in the processor of our company's server. We want to analyze the data provided to determinate whether we should change the cooling system for a better one. It is expensive and as a data analyst we cannot make decisions without a basis.\n",
    "\n",
    "We provide the temperatures measured throughout the 24 hours of a day in a list-type data structure composed of 24 integers:\n",
    "```\n",
    "temperatures_C = [33,66,65,0,59,60,62,64,70,76,80,69,80,83,68,79,61,53,50,49,53,48,45,39]\n",
    "```\n",
    "\n",
    "## Goals\n",
    "\n",
    "1. Treatment of lists\n",
    "2. Use of loop or list comprenhention\n",
    "3. Calculation of the mean, minimum and maximum.\n",
    "4. Filtering of lists.\n",
    "5. Interpolate an outlier.\n",
    "6. Logical operators.\n",
    "7. Print"
   ]
  },
  {
   "cell_type": "markdown",
   "metadata": {},
   "source": [
    "## Temperature graph\n",
    "To facilitate understanding, the temperature graph is shown below. You do not have to do anything in this section. The test starts in **Problem**."
   ]
  },
  {
   "cell_type": "code",
   "execution_count": 3,
   "metadata": {},
   "outputs": [
    {
     "ename": "ModuleNotFoundError",
     "evalue": "No module named 'matplotlib'",
     "output_type": "error",
     "traceback": [
      "\u001b[0;31m---------------------------------------------------------------------------\u001b[0m",
      "\u001b[0;31mModuleNotFoundError\u001b[0m                       Traceback (most recent call last)",
      "\u001b[0;32m<ipython-input-3-33864ea5dcd5>\u001b[0m in \u001b[0;36m<module>\u001b[0;34m\u001b[0m\n\u001b[1;32m      1\u001b[0m \u001b[0;31m# import\u001b[0m\u001b[0;34m\u001b[0m\u001b[0;34m\u001b[0m\u001b[0;34m\u001b[0m\u001b[0m\n\u001b[0;32m----> 2\u001b[0;31m \u001b[0;32mimport\u001b[0m \u001b[0mmatplotlib\u001b[0m\u001b[0;34m.\u001b[0m\u001b[0mpyplot\u001b[0m \u001b[0;32mas\u001b[0m \u001b[0mplt\u001b[0m\u001b[0;34m\u001b[0m\u001b[0;34m\u001b[0m\u001b[0m\n\u001b[0m\u001b[1;32m      3\u001b[0m \u001b[0mget_ipython\u001b[0m\u001b[0;34m(\u001b[0m\u001b[0;34m)\u001b[0m\u001b[0;34m.\u001b[0m\u001b[0mrun_line_magic\u001b[0m\u001b[0;34m(\u001b[0m\u001b[0;34m'matplotlib'\u001b[0m\u001b[0;34m,\u001b[0m \u001b[0;34m'inline'\u001b[0m\u001b[0;34m)\u001b[0m\u001b[0;34m\u001b[0m\u001b[0;34m\u001b[0m\u001b[0m\n\u001b[1;32m      4\u001b[0m \u001b[0;34m\u001b[0m\u001b[0m\n\u001b[1;32m      5\u001b[0m \u001b[0;31m# axis x, axis y\u001b[0m\u001b[0;34m\u001b[0m\u001b[0;34m\u001b[0m\u001b[0;34m\u001b[0m\u001b[0m\n",
      "\u001b[0;31mModuleNotFoundError\u001b[0m: No module named 'matplotlib'"
     ]
    }
   ],
   "source": [
    "# import\n",
    "import matplotlib.pyplot as plt\n",
    "%matplotlib inline\n",
    "\n",
    "# axis x, axis y\n",
    "# Replaced the list to match with the one given.\n",
    "y = [33,66,65,0,59,60,62,64,70,76,80,69,80,83,68,79,61,53,50,49,53,48,45,39]\n",
    "x = list(range(len(y)))\n",
    "\n",
    "# plot\n",
    "plt.plot(x, y)\n",
    "plt.axhline(y=70, linewidth=1, color='r')\n",
    "plt.xlabel('hours')\n",
    "plt.ylabel('Temperature ºC')\n",
    "plt.title('Temperatures of our server throughout the day')"
   ]
  },
  {
   "cell_type": "markdown",
   "metadata": {},
   "source": [
    "## Problem\n",
    "\n",
    "If the sensor detects more than 4 hours with temperatures greater than or equal to 70ºC or any temperature above 80ºC or the average exceeds 65ºC throughout the day, we must give the order to change the cooling system to avoid damaging the processor.\n",
    "\n",
    "We will guide you step by step so you can make the decision by calculating some intermediate steps:\n",
    "\n",
    "1. Minimum temperature\n",
    "2. Maximum temperature\n",
    "3. Temperatures equal to or greater than 70ºC\n",
    "4. Average temperatures throughout the day.\n",
    "5. If there was a sensor failure at 03:00 and we did not capture the data, how would you estimate the value that we lack? Correct that value in the list of temperatures.\n",
    "6. Bonus: Our maintenance staff is from the United States and does not understand the international metric system. Pass temperatures to Degrees Fahrenheit.\n",
    "\n",
    "Formula: F = 1.8 * C + 32\n",
    "\n",
    "web: https://en.wikipedia.org/wiki/Conversion_of_units_of_temperature\n"
   ]
  },
  {
   "cell_type": "code",
   "execution_count": 2,
   "metadata": {},
   "outputs": [
    {
     "name": "stdout",
     "output_type": "stream",
     "text": [
      "Minimum temperature reached: 0\n",
      "Maximum temperature reached: 83\n",
      "Temperatures greater than 70ºC: [76, 80, 80, 83, 79]\n",
      "The mean is equal to: 58.83\n",
      "The sensor failed at the 4th hour. We took the 3rd and 5th hour and made and estimation of the temperature, \n",
      "      calculating the mean between the two values. The estimation is equal to: 62.00\n",
      "The temperatures in Fahrenheit are: [91.4, 150.8, 149.0, 143.60000000000002, 138.2, 140.0, 143.60000000000002, 147.2, 158.0, 168.8, 176.0, 156.2, 176.0, 181.4, 154.4, 174.20000000000002, 141.8, 127.4, 122.0, 120.2, 127.4, 118.4, 113.0, 102.2]\n"
     ]
    }
   ],
   "source": [
    "# assign a variable to the list of temperatures\n",
    "temperatures_C = [33,66,65,0,59,60,62,64,70,76,80,69,80,83,68,79,61,53,50,49,53,48,45,39]\n",
    "\n",
    "# 1. Calculate the minimum of the list and print the value using print()\n",
    "min_temperature = min(temperatures_C)\n",
    "print('Minimum temperature reached:', min_temperature)\n",
    "\n",
    "\n",
    "# 2. Calculate the maximum of the list and print the value using print()\n",
    "max_temperature = max(temperatures_C)\n",
    "print('Maximum temperature reached:', max_temperature)\n",
    "\n",
    "\n",
    "# 3. Items in the list that are greater than 70ºC and print the result\n",
    "temp_greater_70 = [temp for temp in temperatures_C if temp > 70]\n",
    "print('Temperatures greater than 70ºC:', temp_greater_70)\n",
    "\n",
    "\n",
    "# 4. Calculate the mean temperature throughout the day and print the result\n",
    "avg_temp = sum(temperatures_C) / len(temperatures_C)\n",
    "print('The mean is equal to: %.2f' %avg_temp)\n",
    "\n",
    "\n",
    "# 5.1 Solve the fault in the sensor by estimating a value\n",
    "# I understand that the fault in the sensor is the value 0.\n",
    "estimation_3rd_hour = (temperatures_C[2] + temperatures_C[4]) / 2\n",
    "print('''The sensor failed at the 4th hour. We took the 3rd and 5th hour and made and estimation of the temperature, \n",
    "      calculating the mean between the two values. The estimation is equal to: %.2f''' %estimation_3rd_hour)\n",
    "\n",
    "\n",
    "# 5.2 Update of the estimated value at 03:00 on the list\n",
    "temperatures_C[3] = estimation_3rd_hour\n",
    "\n",
    "\n",
    "\n",
    "# Bonus: convert the list of ºC to ºFarenheit\n",
    "temperatures_F = [(temp * 1.8 + 32) for temp in temperatures_C]\n",
    "print('The temperatures in Fahrenheit are:', temperatures_F)\n",
    "\n"
   ]
  },
  {
   "cell_type": "markdown",
   "metadata": {},
   "source": [
    "## Take the decision\n",
    "Remember that if the sensor detects more than 4 hours with temperatures greater than or equal to 70ºC or any temperature higher than 80ºC or the average was higher than 65ºC throughout the day, we must give the order to change the cooling system to avoid the danger of damaging the equipment:\n",
    "* more than 4 hours with temperatures greater than or equal to 70ºC\n",
    "* some temperature higher than 80ºC\n",
    "* average was higher than 65ºC throughout the day\n",
    "If any of these three is met, the cooling system must be changed.\n"
   ]
  },
  {
   "cell_type": "code",
   "execution_count": 5,
   "metadata": {},
   "outputs": [
    {
     "name": "stdout",
     "output_type": "stream",
     "text": [
      "The cooling system must be changed\n"
     ]
    }
   ],
   "source": [
    "# Print True or False depending on whether you would change the cooling system or not\n",
    "change_cooling = len(temp_greater_70) > 4 or max_temperature > 80 or avg_temp > 65\n",
    "if (change_cooling):\n",
    "    print('The cooling system must be changed')\n",
    "else:\n",
    "    print(\"The colling system doesn't need to be changed\")\n",
    "\n"
   ]
  },
  {
   "cell_type": "markdown",
   "metadata": {},
   "source": [
    "## Future improvements\n",
    "1. We want the hours (not the temperatures) whose temperature exceeds 70ºC\n",
    "2. Condition that those hours are more than 4 consecutive and consecutive, not simply the sum of the whole set. Is this condition met?\n",
    "3. Average of each of the lists (ºC and ºF). How they relate?\n",
    "4. Standard deviation of each of the lists. How they relate?\n"
   ]
  },
  {
   "cell_type": "code",
   "execution_count": 12,
   "metadata": {},
   "outputs": [
    {
     "name": "stdout",
     "output_type": "stream",
     "text": [
      "[10, 11, 13, 14, 16]\n"
     ]
    }
   ],
   "source": [
    "# 1. We want the hours (not the temperatures) whose temperature exceeds 70ºC\n",
    "hours_high_temp = [i + 1 for i in range(len(temperatures_C)) if temperatures_C[i] > 70]\n",
    "print(hours_high_temp)\n",
    "\n"
   ]
  },
  {
   "cell_type": "code",
   "execution_count": 18,
   "metadata": {},
   "outputs": [
    {
     "name": "stdout",
     "output_type": "stream",
     "text": [
      "Conditions not met. Cooling system doesn't need to be changed.\n"
     ]
    }
   ],
   "source": [
    "# 2. Condition that those hours are more than 4 consecutive and consecutive, not simply the sum of the whole set. Is this condition met?\n",
    "boolean_high_temp = []\n",
    "change_condition = True\n",
    "for temp in temperatures_C:\n",
    "    if (temp > 70):\n",
    "        boolean_high_temp.append(True)\n",
    "    else:\n",
    "        boolean_high_temp.append(False)\n",
    "        \n",
    "for i in boolean_high_temp:\n",
    "    if (boolean_high_temp[i] == True and boolean_high_temp[i + 1] == True and boolean_high_temp[i + 2] == True and boolean_high_temp[i + 3] == True):\n",
    "        change_condition = True\n",
    "    else:\n",
    "        change_condition = False\n",
    "\n",
    "if (change_condition):\n",
    "    print(\"Conditions met. Cooling system must be changed.\")\n",
    "else:\n",
    "    print(\"Conditions not met. Cooling system doesn't need to be changed.\")\n",
    "\n"
   ]
  },
  {
   "cell_type": "code",
   "execution_count": 27,
   "metadata": {},
   "outputs": [
    {
     "name": "stdout",
     "output_type": "stream",
     "text": [
      "61.416666666666664\n",
      "142.54999999999998\n",
      "The only possible relation is that we can convert any of these to ºC or ºF. In other words they are the same lists, with diferent conversions\n",
      "142.55\n",
      "61.41666666666666\n"
     ]
    }
   ],
   "source": [
    "# 3. Average of each of the lists (ºC and ºF). How they relate?\n",
    "def avg(list):\n",
    "    return sum(list) / len(list)\n",
    "\n",
    "avg_C = avg(temperatures_C)\n",
    "avg_F = avg(temperatures_F)\n",
    "\n",
    "print(avg_C)\n",
    "print(avg_F)\n",
    "\n",
    "print(\"The only possible relation is that we can convert any of these to ºC or ºF. In other words they are the same lists, with diferent conversions\")\n",
    "print(avg_C * 1.8 + 32)\n",
    "print((avg_F - 32) / 1.8)\n"
   ]
  },
  {
   "cell_type": "code",
   "execution_count": 34,
   "metadata": {},
   "outputs": [
    {
     "name": "stdout",
     "output_type": "stream",
     "text": [
      "13.050915251004003\n",
      "23.491647451807207\n",
      "The only possible relation is that we can convert any of these to ºC or ºF. In other words they are the same lists, with diferent conversions\n",
      "23.491647451807207\n",
      "13.050915251004003\n"
     ]
    }
   ],
   "source": [
    "# 4. Standard deviation of each of the lists. How they relate?\n",
    "def std(list):\n",
    "    average = avg(list)\n",
    "    variance = 0\n",
    "    for i in list:\n",
    "        variance += ((i - average) ** 2) / len(list)\n",
    "    return variance ** (1/2)\n",
    "\n",
    "std_C = std(temperatures_C)\n",
    "std_F = std(temperatures_F)\n",
    "\n",
    "print(std_C)\n",
    "print(std_F)\n",
    "\n",
    "# Can't see how they relate\n",
    "\n"
   ]
  },
  {
   "cell_type": "code",
   "execution_count": null,
   "metadata": {},
   "outputs": [],
   "source": []
  }
 ],
 "metadata": {
  "kernelspec": {
   "display_name": "Python 3",
   "language": "python",
   "name": "python3"
  },
  "language_info": {
   "codemirror_mode": {
    "name": "ipython",
    "version": 3
   },
   "file_extension": ".py",
   "mimetype": "text/x-python",
   "name": "python",
   "nbconvert_exporter": "python",
   "pygments_lexer": "ipython3",
   "version": "3.7.1"
  }
 },
 "nbformat": 4,
 "nbformat_minor": 2
}
